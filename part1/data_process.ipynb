{
 "cells": [
  {
   "cell_type": "code",
   "execution_count": 1,
   "metadata": {},
   "outputs": [],
   "source": [
    "import sentiment as sentimentinterface\n",
    "import classify \n",
    "import timeit\n",
    "import numpy as np\n",
    "\n",
    "import matplotlib.pyplot as plt\n",
    "plt.switch_backend('agg')\n",
    "import matplotlib.ticker as ticker\n",
    "%matplotlib inline"
   ]
  },
  {
   "cell_type": "code",
   "execution_count": 2,
   "metadata": {},
   "outputs": [
    {
     "name": "stdout",
     "output_type": "stream",
     "text": [
      "Reading data\n",
      "-- train data\n",
      "sentiment/train.tsv\n",
      "4582\n",
      "-- dev data\n",
      "sentiment/dev.tsv\n",
      "458\n",
      "-- transforming data and labels\n"
     ]
    }
   ],
   "source": [
    "print(\"Reading data\")\n",
    "tarfname = \"data/sentiment.tar.gz\"\n",
    "sentiment = sentimentinterface.read_files(tarfname)"
   ]
  },
  {
   "cell_type": "code",
   "execution_count": 6,
   "metadata": {},
   "outputs": [],
   "source": [
    "from nltk.tokenize import RegexpTokenizer\n",
    "import json\n",
    "from collections import Counter"
   ]
  },
  {
   "cell_type": "code",
   "execution_count": 7,
   "metadata": {},
   "outputs": [],
   "source": [
    "pos_train_data = []\n",
    "neg_train_data = []\n",
    "for i, review in enumerate(sentiment.train_data):\n",
    "    if sentiment.train_labels[i] == 'POSITIVE':\n",
    "        pos_train_data.append(review)\n",
    "    else:\n",
    "        neg_train_data.append(review)\n",
    "\n",
    "tokenizer = RegexpTokenizer(r'\\w+')\n",
    "pos_vocab = Counter(tokenizer.tokenize(' '.join(pos_train_data)))\n",
    "neg_vocab = Counter(tokenizer.tokenize(' '.join(neg_train_data)))"
   ]
  },
  {
   "cell_type": "code",
   "execution_count": 9,
   "metadata": {},
   "outputs": [
    {
     "data": {
      "text/plain": [
       "8076"
      ]
     },
     "execution_count": 9,
     "metadata": {},
     "output_type": "execute_result"
    }
   ],
   "source": []
  },
  {
   "cell_type": "code",
   "execution_count": 4,
   "metadata": {},
   "outputs": [],
   "source": [
    "cls = classify.train_classifier(sentiment.trainX, sentiment.trainy)"
   ]
  },
  {
   "cell_type": "code",
   "execution_count": 5,
   "metadata": {},
   "outputs": [
    {
     "name": "stdout",
     "output_type": "stream",
     "text": [
      "--------------------------------------------------\n",
      "Top k=8\n",
      "--------------------------------------------------\n",
      "perfect\n",
      "best\n",
      "great\n",
      "easy\n",
      "awesome\n",
      "delicious\n",
      "amazing\n",
      "excellent\n",
      "--------------------------------------------------\n",
      "Bottom k=8\n",
      "--------------------------------------------------\n",
      "worst\n",
      "horrible\n",
      "terrible\n",
      "disappointing\n",
      "average\n",
      "meh\n",
      "excited\n",
      "overpriced\n"
     ]
    }
   ],
   "source": [
    "coefficients=cls.coef_[0]\n",
    "k = 8\n",
    "top_k =np.argsort(coefficients)[-k:]\n",
    "top_k_words = []\n",
    "\n",
    "print('-'*50)\n",
    "print('Top k=%d' %k)\n",
    "print('-'*50)\n",
    "\n",
    "for i in top_k:\n",
    "    print(sentiment.count_vect.get_feature_names()[i])\n",
    "    top_k_words.append(sentiment.count_vect.get_feature_names()[i])\n",
    "#print(sentiment.count_ve\n",
    "print('-'*50)\n",
    "print('Bottom k=%d' %k)\n",
    "print('-'*50)\n",
    "#top_k = np.argpartition(coefficients, -k)[-k:]\n",
    "bottom_k =np.argsort(coefficients)[:k]\n",
    "bottom_k_words = []\n",
    "#print(top_k)\n",
    "for i in bottom_k:\n",
    "    print(sentiment.count_vect.get_feature_names()[i])\n",
    "    bottom_k_words.append(sentiment.count_vect.get_feature_names()[i])"
   ]
  },
  {
   "cell_type": "code",
   "execution_count": null,
   "metadata": {},
   "outputs": [],
   "source": []
  }
 ],
 "metadata": {
  "kernelspec": {
   "display_name": "Python 3",
   "language": "python",
   "name": "python3"
  },
  "language_info": {
   "codemirror_mode": {
    "name": "ipython",
    "version": 3
   },
   "file_extension": ".py",
   "mimetype": "text/x-python",
   "name": "python",
   "nbconvert_exporter": "python",
   "pygments_lexer": "ipython3",
   "version": "3.7.3"
  }
 },
 "nbformat": 4,
 "nbformat_minor": 2
}
