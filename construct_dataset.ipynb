{
 "cells": [
  {
   "cell_type": "code",
   "execution_count": 76,
   "metadata": {},
   "outputs": [],
   "source": [
    "import csv\n",
    "from os import listdir\n",
    "from os.path import isfile, join\n",
    "onlyfiles = [f for f in listdir('./data') if isfile(join('./data', f))]"
   ]
  },
  {
   "cell_type": "code",
   "execution_count": 77,
   "metadata": {},
   "outputs": [],
   "source": [
    "import re\n",
    "import json\n",
    "from collections import defaultdict"
   ]
  },
  {
   "cell_type": "code",
   "execution_count": 102,
   "metadata": {},
   "outputs": [],
   "source": [
    "text = list()\n",
    "labels = list()\n",
    "data_source = defaultdict(int)\n",
    "total_count = 12322\n",
    "not_count = 0\n",
    "for file in onlyfiles:        \n",
    "    with open('data/' + file, newline='', encoding=\"utf8\") as csv_file:\n",
    "        csv_reader = csv.reader(csv_file, delimiter=',')\n",
    "        line_count = 0\n",
    "        if 'trump' not in file.lower():\n",
    "            label = 'NoTrump'\n",
    "            if not_count == total_count:\n",
    "                continue\n",
    "        else:\n",
    "            label = 'Trump'        \n",
    "        text_ind = 1\n",
    "        if \"MORE_TRUMP.csv\" in file:\n",
    "            text_ind = 0\n",
    "            source = 'realDonaldTrump'\n",
    "        else:\n",
    "            source = file[:-11]        \n",
    "        for row in csv_reader:            \n",
    "            if line_count != 0:\n",
    "                line = re.sub('[\\s\\n\\t#@]+', ' ', row[text_ind])\n",
    "                line = re.sub(r'http\\S+', '', line).strip()            \n",
    "                if len(line) == 0:\n",
    "                    continue\n",
    "                text.append(line)                \n",
    "                labels.append(label)            \n",
    "                data_source[source] += 1\n",
    "                if label != 'Trump':\n",
    "                    not_count += 1\n",
    "                    if not_count == total_count:\n",
    "                        break                \n",
    "            line_count += 1\n",
    "                "
   ]
  },
  {
   "cell_type": "code",
   "execution_count": 103,
   "metadata": {},
   "outputs": [
    {
     "data": {
      "text/plain": [
       "defaultdict(int,\n",
       "            {'realDonaldTrump': 12322,\n",
       "             'SecretaryCarson': 1242,\n",
       "             'MartinOMalley': 2211,\n",
       "             'JebBush': 2757,\n",
       "             'BarackObama': 2880,\n",
       "             'HillaryClinton': 1774,\n",
       "             'BernieSanders': 1458})"
      ]
     },
     "execution_count": 103,
     "metadata": {},
     "output_type": "execute_result"
    }
   ],
   "source": [
    "data_source"
   ]
  },
  {
   "cell_type": "code",
   "execution_count": 104,
   "metadata": {},
   "outputs": [],
   "source": [
    "from sklearn.model_selection import train_test_split\n",
    "train_data, test_data, train_labels, test_labels = \\\n",
    "train_test_split(text, labels, test_size=0.13, random_state=42)\n",
    "with open(\"train.csv\", \"w\", newline='', encoding='utf8') as csv_file:\n",
    "    csv_writer = csv.writer(csv_file)\n",
    "    for i in range(len(train_data)):\n",
    "        csv_writer.writerow([train_data[i], train_labels[i]])\n",
    "with open(\"dev.csv\", \"w\", newline='', encoding='utf8') as csv_file:\n",
    "    csv_writer = csv.writer(csv_file)\n",
    "    for i in range(len(test_data)):\n",
    "        csv_writer.writerow([test_data[i], test_labels[i]])"
   ]
  },
  {
   "cell_type": "code",
   "execution_count": 105,
   "metadata": {},
   "outputs": [
    {
     "data": {
      "text/plain": [
       "113"
      ]
     },
     "execution_count": 105,
     "metadata": {},
     "output_type": "execute_result"
    }
   ],
   "source": [
    "len(train_data[0])"
   ]
  },
  {
   "cell_type": "code",
   "execution_count": 106,
   "metadata": {},
   "outputs": [
    {
     "data": {
      "text/plain": [
       "Counter({'NoTrump': 10681, 'Trump': 10759})"
      ]
     },
     "execution_count": 106,
     "metadata": {},
     "output_type": "execute_result"
    }
   ],
   "source": [
    "from collections import Counter\n",
    "c = Counter(train_labels)\n",
    "c"
   ]
  },
  {
   "cell_type": "code",
   "execution_count": 84,
   "metadata": {},
   "outputs": [],
   "source": [
    "from sklearn.feature_extraction.text import CountVectorizer, TfidfVectorizer\n",
    "# vectorizer = CountVectorizer()\n",
    "vectorizer = TfidfVectorizer(ngram_range=(1, 3), min_df=3, max_df=200)\n",
    "trainX = vectorizer.fit_transform(train_data)\n",
    "testX = vectorizer.transform(test_data)\n",
    "from sklearn import preprocessing\n",
    "le = preprocessing.LabelEncoder()\n",
    "le.fit(train_labels)\n",
    "trainy = le.transform(train_labels)\n",
    "testy = le.transform(test_labels)"
   ]
  },
  {
   "cell_type": "code",
   "execution_count": 85,
   "metadata": {},
   "outputs": [
    {
     "data": {
      "text/plain": [
       "LogisticRegression(C=1.0, class_weight=None, dual=False, fit_intercept=True,\n",
       "          intercept_scaling=1, max_iter=10000, multi_class='ovr', n_jobs=1,\n",
       "          penalty='l2', random_state=0, solver='lbfgs', tol=0.0001,\n",
       "          verbose=0, warm_start=False)"
      ]
     },
     "execution_count": 85,
     "metadata": {},
     "output_type": "execute_result"
    }
   ],
   "source": [
    "from sklearn.linear_model import LogisticRegression\n",
    "cls = LogisticRegression(random_state=0, solver='lbfgs', max_iter=10000)\n",
    "cls.fit(trainX, trainy)"
   ]
  },
  {
   "cell_type": "code",
   "execution_count": 86,
   "metadata": {},
   "outputs": [],
   "source": [
    "def evaluate(X, yt, cls, name='data'):\n",
    "\t\"\"\"Evaluated a classifier on the given labeled data using accuracy.\"\"\"\n",
    "\tfrom sklearn import metrics\n",
    "\typ = cls.predict(X)\n",
    "\tacc = metrics.accuracy_score(yt, yp)\n",
    "\tprint(\"  Accuracy on %s  is: %s\" % (name, acc))"
   ]
  },
  {
   "cell_type": "code",
   "execution_count": 87,
   "metadata": {},
   "outputs": [
    {
     "name": "stdout",
     "output_type": "stream",
     "text": [
      "  Accuracy on data  is: 0.9107088063823259\n"
     ]
    }
   ],
   "source": [
    "evaluate(testX, testy, cls)"
   ]
  },
  {
   "cell_type": "code",
   "execution_count": null,
   "metadata": {},
   "outputs": [],
   "source": []
  }
 ],
 "metadata": {
  "kernelspec": {
   "display_name": "Python 3",
   "language": "python",
   "name": "python3"
  },
  "language_info": {
   "codemirror_mode": {
    "name": "ipython",
    "version": 3
   },
   "file_extension": ".py",
   "mimetype": "text/x-python",
   "name": "python",
   "nbconvert_exporter": "python",
   "pygments_lexer": "ipython3",
   "version": "3.6.5"
  }
 },
 "nbformat": 4,
 "nbformat_minor": 2
}
